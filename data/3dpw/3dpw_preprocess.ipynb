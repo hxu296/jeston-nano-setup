{
 "cells": [
  {
   "cell_type": "code",
   "execution_count": 1,
   "id": "a3c3eee9",
   "metadata": {},
   "outputs": [],
   "source": [
    "import json"
   ]
  },
  {
   "cell_type": "code",
   "execution_count": 27,
   "id": "86c7564a",
   "metadata": {},
   "outputs": [],
   "source": [
    "with open('data/3DPW_latest_validation.json') as f:\n",
    "    train_data = json.load(f)"
   ]
  },
  {
   "cell_type": "code",
   "execution_count": 28,
   "id": "6c5f4dad",
   "metadata": {},
   "outputs": [],
   "source": [
    "images, annotations = (train_data[key] for key in train_data.keys())"
   ]
  },
  {
   "cell_type": "code",
   "execution_count": 29,
   "id": "3177b0af",
   "metadata": {},
   "outputs": [],
   "source": [
    "# dict_summary key: sequence, value: dict_video\n",
    "# dict_video: key: person_id, value: dict_pose\n",
    "# dict_pose: key: frame_id, value: dict_label\n",
    "# dict_label: cam_param, joint_cam, joint_img, fitted_joint_cam, openpose_result, smpl_param, bbox"
   ]
  },
  {
   "cell_type": "code",
   "execution_count": 30,
   "id": "f2124bb2",
   "metadata": {},
   "outputs": [],
   "source": [
    "# transform images so that it can be quried by id in O(1)\n",
    "images_index = {}\n",
    "for image in images: images_index[image['id']] = image"
   ]
  },
  {
   "cell_type": "code",
   "execution_count": 31,
   "id": "b45479a9",
   "metadata": {},
   "outputs": [],
   "source": [
    "summary = {}\n",
    "for annot in annotations:\n",
    "    image = images_index[annot['image_id']]\n",
    "    sequence = image['sequence']\n",
    "    if sequence not in summary:\n",
    "        dict_label = {}\n",
    "        dict_label['cam_param'] = image['cam_param']\n",
    "        dict_label['joint_cam'] = annot['joint_cam'] \n",
    "        dict_label['joint_img'] = annot['joint_img']\n",
    "        dict_label['fitted_joint_cam'] = annot['fitted_joint_cam']\n",
    "        dict_label['openpose_result'] = annot['openpose_result']\n",
    "        dict_label['smpl_param'] = annot['smpl_param']\n",
    "        dict_label['bbox'] = annot['bbox']\n",
    "        \n",
    "        dict_pose = {}\n",
    "        dict_pose[image['frame_idx']] = dict_label \n",
    "        \n",
    "        dict_video = {}\n",
    "        dict_video[annot['person_id']] = dict_pose\n",
    "        \n",
    "        summary[sequence] = dict_video\n",
    "    else:\n",
    "        dict_video = summary[sequence]\n",
    "        if annot['person_id'] not in dict_video:\n",
    "            dict_video[annot['person_id']] = {}\n",
    "        \n",
    "        dict_label = {}\n",
    "        dict_label['cam_param'] = image['cam_param']\n",
    "        dict_label['joint_cam'] = annot['joint_cam'] \n",
    "        dict_label['joint_img'] = annot['joint_img']\n",
    "        dict_label['fitted_joint_cam'] = annot['fitted_joint_cam']\n",
    "        dict_label['openpose_result'] = annot['openpose_result']\n",
    "        dict_label['smpl_param'] = annot['smpl_param']\n",
    "        dict_label['bbox'] = annot['bbox']\n",
    "        \n",
    "        dict_pose = dict_video[annot['person_id']]\n",
    "        dict_pose[image['frame_idx']] = dict_label "
   ]
  },
  {
   "cell_type": "code",
   "execution_count": 32,
   "id": "12b3465d",
   "metadata": {},
   "outputs": [],
   "source": [
    "with open('3DPW_latest_validation_pre.json', 'w') as f:\n",
    "    json.dump(summary, f)"
   ]
  },
  {
   "cell_type": "code",
   "execution_count": null,
   "id": "a01b7357",
   "metadata": {},
   "outputs": [],
   "source": []
  }
 ],
 "metadata": {
  "kernelspec": {
   "display_name": "Python [conda env:poseaug] *",
   "language": "python",
   "name": "conda-env-poseaug-py"
  },
  "language_info": {
   "codemirror_mode": {
    "name": "ipython",
    "version": 3
   },
   "file_extension": ".py",
   "mimetype": "text/x-python",
   "name": "python",
   "nbconvert_exporter": "python",
   "pygments_lexer": "ipython3",
   "version": "3.6.9"
  }
 },
 "nbformat": 4,
 "nbformat_minor": 5
}
